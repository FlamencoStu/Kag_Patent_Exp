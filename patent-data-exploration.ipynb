{
 "cells": [
  {
   "cell_type": "code",
   "execution_count": 1,
   "id": "e0ddb9ef",
   "metadata": {
    "_cell_guid": "b1076dfc-b9ad-4769-8c92-a6c4dae69d19",
    "_uuid": "8f2839f25d086af736a60e9eeb907d3b93b6e0e5",
    "execution": {
     "iopub.execute_input": "2022-05-19T12:40:59.452156Z",
     "iopub.status.busy": "2022-05-19T12:40:59.451766Z",
     "iopub.status.idle": "2022-05-19T12:40:59.467371Z",
     "shell.execute_reply": "2022-05-19T12:40:59.466451Z"
    },
    "papermill": {
     "duration": 0.034776,
     "end_time": "2022-05-19T12:40:59.470130",
     "exception": false,
     "start_time": "2022-05-19T12:40:59.435354",
     "status": "completed"
    },
    "tags": []
   },
   "outputs": [
    {
     "name": "stdout",
     "output_type": "stream",
     "text": [
      "/kaggle/input/us-patent-phrase-to-phrase-matching/sample_submission.csv\n",
      "/kaggle/input/us-patent-phrase-to-phrase-matching/train.csv\n",
      "/kaggle/input/us-patent-phrase-to-phrase-matching/test.csv\n"
     ]
    }
   ],
   "source": [
    "# This Python 3 environment comes with many helpful analytics libraries installed\n",
    "# It is defined by the kaggle/python Docker image: https://github.com/kaggle/docker-python\n",
    "# For example, here's several helpful packages to load\n",
    "\n",
    "import numpy as np # linear algebra\n",
    "import pandas as pd # data processing, CSV file I/O (e.g. pd.read_csv)\n",
    "\n",
    "# Input data files are available in the read-only \"../input/\" directory\n",
    "# For example, running this (by clicking run or pressing Shift+Enter) will list all files under the input directory\n",
    "\n",
    "import os\n",
    "for dirname, _, filenames in os.walk('/kaggle/input'):\n",
    "    for filename in filenames:\n",
    "        print(os.path.join(dirname, filename))\n",
    "\n",
    "# You can write up to 20GB to the current directory (/kaggle/working/) that gets preserved as output when you create a version using \"Save & Run All\" \n",
    "# You can also write temporary files to /kaggle/temp/, but they won't be saved outside of the current session"
   ]
  },
  {
   "cell_type": "code",
   "execution_count": 2,
   "id": "07c8b7f9",
   "metadata": {
    "execution": {
     "iopub.execute_input": "2022-05-19T12:40:59.500925Z",
     "iopub.status.busy": "2022-05-19T12:40:59.500456Z",
     "iopub.status.idle": "2022-05-19T12:40:59.613277Z",
     "shell.execute_reply": "2022-05-19T12:40:59.612125Z"
    },
    "papermill": {
     "duration": 0.130704,
     "end_time": "2022-05-19T12:40:59.615860",
     "exception": false,
     "start_time": "2022-05-19T12:40:59.485156",
     "status": "completed"
    },
    "tags": []
   },
   "outputs": [],
   "source": [
    "df_train = pd.read_csv(\"../input/us-patent-phrase-to-phrase-matching/train.csv\")\n",
    "df_test = pd.read_csv(\"../input/us-patent-phrase-to-phrase-matching/test.csv\")\n",
    "df_submit = pd.read_csv(\"../input/us-patent-phrase-to-phrase-matching/sample_submission.csv\")"
   ]
  },
  {
   "cell_type": "code",
   "execution_count": 3,
   "id": "e67fc0af",
   "metadata": {
    "execution": {
     "iopub.execute_input": "2022-05-19T12:40:59.645997Z",
     "iopub.status.busy": "2022-05-19T12:40:59.645477Z",
     "iopub.status.idle": "2022-05-19T12:40:59.664910Z",
     "shell.execute_reply": "2022-05-19T12:40:59.663770Z"
    },
    "papermill": {
     "duration": 0.037229,
     "end_time": "2022-05-19T12:40:59.667141",
     "exception": false,
     "start_time": "2022-05-19T12:40:59.629912",
     "status": "completed"
    },
    "tags": []
   },
   "outputs": [
    {
     "data": {
      "text/plain": [
       "<bound method NDFrame.head of                      id        anchor                  target context  score\n",
       "0      37d61fd2272659b1     abatement  abatement of pollution     A47   0.50\n",
       "1      7b9652b17b68b7a4     abatement          act of abating     A47   0.75\n",
       "2      36d72442aefd8232     abatement         active catalyst     A47   0.25\n",
       "3      5296b0c19e1ce60e     abatement     eliminating process     A47   0.50\n",
       "4      54c1e3b9184cb5b6     abatement           forest region     A47   0.00\n",
       "...                 ...           ...                     ...     ...    ...\n",
       "36468  8e1386cbefd7f245  wood article          wooden article     B44   1.00\n",
       "36469  42d9e032d1cd3242  wood article              wooden box     B44   0.50\n",
       "36470  208654ccb9e14fa3  wood article           wooden handle     B44   0.50\n",
       "36471  756ec035e694722b  wood article         wooden material     B44   0.75\n",
       "36472  8d135da0b55b8c88  wood article        wooden substrate     B44   0.50\n",
       "\n",
       "[36473 rows x 5 columns]>"
      ]
     },
     "execution_count": 3,
     "metadata": {},
     "output_type": "execute_result"
    }
   ],
   "source": [
    "df_train.head"
   ]
  },
  {
   "cell_type": "code",
   "execution_count": 4,
   "id": "b403fd3d",
   "metadata": {
    "execution": {
     "iopub.execute_input": "2022-05-19T12:40:59.697509Z",
     "iopub.status.busy": "2022-05-19T12:40:59.697023Z",
     "iopub.status.idle": "2022-05-19T12:40:59.706777Z",
     "shell.execute_reply": "2022-05-19T12:40:59.705890Z"
    },
    "papermill": {
     "duration": 0.027353,
     "end_time": "2022-05-19T12:40:59.708776",
     "exception": false,
     "start_time": "2022-05-19T12:40:59.681423",
     "status": "completed"
    },
    "tags": []
   },
   "outputs": [
    {
     "data": {
      "text/plain": [
       "<bound method NDFrame.head of                   id                       anchor  \\\n",
       "0   4112d61851461f60                     opc drum   \n",
       "1   09e418c93a776564              adjust gas flow   \n",
       "2   36baf228038e314b               lower trunnion   \n",
       "3   1f37ead645e7f0c8                cap component   \n",
       "4   71a5b6ad068d531f           neural stimulation   \n",
       "5   474c874d0c07bd21                     dry corn   \n",
       "6   442c114ed5c4e3c9          tunneling capacitor   \n",
       "7   b8ae62ea5e1d8bdb      angular contact bearing   \n",
       "8   faaddaf8fcba8a3f  produce liquid hydrocarbons   \n",
       "9   ae0262c02566d2ce             diesel fuel tank   \n",
       "10  a8808e31641e856d            chemical activity   \n",
       "11  16ae4b99d3601e60         transmit to platform   \n",
       "12  25c555ca3d5a2092                  oil tankers   \n",
       "13  5203a36c501f1b7c            generate in layer   \n",
       "14  b9fdc772bb8fd61c                 slip segment   \n",
       "15  7aa5908a77a7ec24                   el display   \n",
       "16  d19ef3979396d47e              overflow device   \n",
       "17  fd83613b7843f5e1     beam traveling direction   \n",
       "18  2a619016908bfa45                   el display   \n",
       "19  733979d75f59770d               equipment unit   \n",
       "20  6546846df17f9800                   halocarbyl   \n",
       "21  3ff0e7a35015be69         perfluoroalkyl group   \n",
       "22  12ca31f018a2e2b9          speed control means   \n",
       "23  03ba802ed4029e4d                   arm design   \n",
       "24  c404f8b378cbb008               hybrid bearing   \n",
       "25  78243984c02a72e4                     end pins   \n",
       "26  de51114bc0faec3e             organic starting   \n",
       "27  7e3aff857f056bf9                make of slabs   \n",
       "28  26c3c6dc6174b589                   seal teeth   \n",
       "29  b892011ab2e2cabc            carry by platform   \n",
       "30  8247ff562ca185cc                        polls   \n",
       "31  c057aecbba832387              upper clamp arm   \n",
       "32  9f2279ce667b21dc              clocked storage   \n",
       "33  b9ea2b06a878df6f              coupling factor   \n",
       "34  79795133c30ef097       different conductivity   \n",
       "35  25522ee5411e63e9               hybrid bearing   \n",
       "\n",
       "                           target context  \n",
       "0   inorganic photoconductor drum     G02  \n",
       "1               altering gas flow     F23  \n",
       "2                  lower locating     B60  \n",
       "3                   upper portion     D06  \n",
       "4       artificial neural network     H04  \n",
       "5                 dry corn starch     C12  \n",
       "6               capacitor housing     G11  \n",
       "7       contact therapy radiation     B23  \n",
       "8        produce a treated stream     C10  \n",
       "9               diesel fuel tanks     F02  \n",
       "10     dielectric characteristics     B01  \n",
       "11               direct receiving     H04  \n",
       "12                   oil carriers     B63  \n",
       "13              generate by layer     G02  \n",
       "14                   slip portion     B22  \n",
       "15                   illumination     G02  \n",
       "16                     oil filler     E04  \n",
       "17                  concrete beam     H05  \n",
       "18             electroluminescent     C23  \n",
       "19                power detection     H02  \n",
       "20      halogen addition reaction     C07  \n",
       "21                        hydroxy     A63  \n",
       "22                   control loop     G05  \n",
       "23                    steel plate     F16  \n",
       "24                 bearing system     F04  \n",
       "25                       end days     A44  \n",
       "26                organic farming     B61  \n",
       "27                    making cake     E04  \n",
       "28                teeth whitening     F01  \n",
       "29              carry on platform     B60  \n",
       "30                 pooling device     B21  \n",
       "31                     end visual     A61  \n",
       "32         clocked storage device     G01  \n",
       "33                turns impedance     G01  \n",
       "34               carrier polarity     H03  \n",
       "35            corrosion resistant     F16  >"
      ]
     },
     "execution_count": 4,
     "metadata": {},
     "output_type": "execute_result"
    }
   ],
   "source": [
    "df_test.head"
   ]
  },
  {
   "cell_type": "code",
   "execution_count": 5,
   "id": "fab125ae",
   "metadata": {
    "execution": {
     "iopub.execute_input": "2022-05-19T12:40:59.741235Z",
     "iopub.status.busy": "2022-05-19T12:40:59.740308Z",
     "iopub.status.idle": "2022-05-19T12:40:59.748767Z",
     "shell.execute_reply": "2022-05-19T12:40:59.747935Z"
    },
    "papermill": {
     "duration": 0.027152,
     "end_time": "2022-05-19T12:40:59.751001",
     "exception": false,
     "start_time": "2022-05-19T12:40:59.723849",
     "status": "completed"
    },
    "tags": []
   },
   "outputs": [],
   "source": [
    "df_submit.head\n",
    "#print(df_submit.dtypes)\n",
    "#print('Hello')\n",
    "df_submit['score']=df_submit['score'].astype('float')\n",
    "#df_submit = df_submit.astype({'score':'float64'}).dtypes\n",
    "#print(df_submit.dtypes)\n",
    "\n",
    "#df.astype({'col1': 'int32'}).dtypes"
   ]
  },
  {
   "cell_type": "code",
   "execution_count": 6,
   "id": "3b00bcea",
   "metadata": {
    "execution": {
     "iopub.execute_input": "2022-05-19T12:40:59.782346Z",
     "iopub.status.busy": "2022-05-19T12:40:59.781751Z",
     "iopub.status.idle": "2022-05-19T12:40:59.800569Z",
     "shell.execute_reply": "2022-05-19T12:40:59.799881Z"
    },
    "papermill": {
     "duration": 0.037014,
     "end_time": "2022-05-19T12:40:59.802780",
     "exception": false,
     "start_time": "2022-05-19T12:40:59.765766",
     "status": "completed"
    },
    "tags": []
   },
   "outputs": [],
   "source": [
    "#Manual From Excel - just to make sure I understand how to submit a submission\n",
    "df_submit.at[0,'score']=1\n",
    "df_submit.at[1,'score']=1\n",
    "df_submit.at[2,'score']=0.25\n",
    "df_submit.at[3,'score']=0\n",
    "df_submit.at[4,'score']=0.5\n",
    "df_submit.at[5,'score']=1\n",
    "df_submit.at[6,'score']=0.75\n",
    "df_submit.at[7,'score']=0\n",
    "df_submit.at[8,'score']=0.25\n",
    "df_submit.at[9,'score']=1\n",
    "df_submit.at[10,'score']=0.75\n",
    "df_submit.at[11,'score']=0.25\n",
    "df_submit.at[12,'score']=1\n",
    "df_submit.at[13,'score']=1\n",
    "df_submit.at[14,'score']=1\n",
    "df_submit.at[15,'score']=0.25\n",
    "df_submit.at[16,'score']=0\n",
    "df_submit.at[17,'score']=0\n",
    "df_submit.at[18,'score']=0.5\n",
    "df_submit.at[19,'score']=0\n",
    "df_submit.at[20,'score']=0.75\n",
    "df_submit.at[21,'score']=0.75\n",
    "df_submit.at[22,'score']=0.25\n",
    "df_submit.at[23,'score']=0\n",
    "df_submit.at[24,'score']=0.75\n",
    "df_submit.at[25,'score']=0.25\n",
    "df_submit.at[26,'score']=0.75\n",
    "df_submit.at[27,'score']=0\n",
    "df_submit.at[28,'score']=0.25\n",
    "df_submit.at[29,'score']=1\n",
    "df_submit.at[30,'score']=0.25\n",
    "df_submit.at[31,'score']=0\n",
    "df_submit.at[32,'score']=1\n",
    "df_submit.at[33,'score']=0.75\n",
    "df_submit.at[34,'score']=0.25\n",
    "df_submit.at[35,'score']=0\n",
    "\n",
    "\n"
   ]
  },
  {
   "cell_type": "code",
   "execution_count": 7,
   "id": "640958f6",
   "metadata": {
    "execution": {
     "iopub.execute_input": "2022-05-19T12:40:59.833707Z",
     "iopub.status.busy": "2022-05-19T12:40:59.833116Z",
     "iopub.status.idle": "2022-05-19T12:40:59.841671Z",
     "shell.execute_reply": "2022-05-19T12:40:59.841015Z"
    },
    "papermill": {
     "duration": 0.027082,
     "end_time": "2022-05-19T12:40:59.844395",
     "exception": false,
     "start_time": "2022-05-19T12:40:59.817313",
     "status": "completed"
    },
    "tags": []
   },
   "outputs": [],
   "source": [
    "data = [['4112d61851461f60',1],['09e418c93a776564',1],['36baf228038e314b',0.25],['1f37ead645e7f0c8',0],['71a5b6ad068d531f',0.5],['474c874d0c07bd21',1],['442c114ed5c4e3c9',0.75],['b8ae62ea5e1d8bdb',0],['faaddaf8fcba8a3f',0.25],['ae0262c02566d2ce',1],['a8808e31641e856d',0.75],['16ae4b99d3601e60',0.25],['25c555ca3d5a2092',1],['5203a36c501f1b7c',1],['b9fdc772bb8fd61c',1],['7aa5908a77a7ec24',0.25],['d19ef3979396d47e',0],['fd83613b7843f5e1',0],['2a619016908bfa45',0.5],['733979d75f59770d',0],['6546846df17f9800',0.75],['3ff0e7a35015be69',0.75],['12ca31f018a2e2b9',0.25],['03ba802ed4029e4d',0],['c404f8b378cbb008',0.75],['78243984c02a72e4',0.25],['de51114bc0faec3e',0.75],['7e3aff857f056bf9',0],['26c3c6dc6174b589',0.25],['b892011ab2e2cabc',1],['8247ff562ca185cc',0.25],['c057aecbba832387',0],['9f2279ce667b21dc',1],['b9ea2b06a878df6f',0.75],['79795133c30ef097',0.25],['25522ee5411e63e9',0]]\n"
   ]
  },
  {
   "cell_type": "code",
   "execution_count": 8,
   "id": "3957842c",
   "metadata": {
    "execution": {
     "iopub.execute_input": "2022-05-19T12:40:59.877181Z",
     "iopub.status.busy": "2022-05-19T12:40:59.876743Z",
     "iopub.status.idle": "2022-05-19T12:40:59.886374Z",
     "shell.execute_reply": "2022-05-19T12:40:59.885693Z"
    },
    "papermill": {
     "duration": 0.028578,
     "end_time": "2022-05-19T12:40:59.888244",
     "exception": false,
     "start_time": "2022-05-19T12:40:59.859666",
     "status": "completed"
    },
    "tags": []
   },
   "outputs": [
    {
     "data": {
      "text/plain": [
       "<bound method NDFrame.head of                   id  score\n",
       "0   4112d61851461f60   1.00\n",
       "1   09e418c93a776564   1.00\n",
       "2   36baf228038e314b   0.25\n",
       "3   1f37ead645e7f0c8   0.00\n",
       "4   71a5b6ad068d531f   0.50\n",
       "5   474c874d0c07bd21   1.00\n",
       "6   442c114ed5c4e3c9   0.75\n",
       "7   b8ae62ea5e1d8bdb   0.00\n",
       "8   faaddaf8fcba8a3f   0.25\n",
       "9   ae0262c02566d2ce   1.00\n",
       "10  a8808e31641e856d   0.75\n",
       "11  16ae4b99d3601e60   0.25\n",
       "12  25c555ca3d5a2092   1.00\n",
       "13  5203a36c501f1b7c   1.00\n",
       "14  b9fdc772bb8fd61c   1.00\n",
       "15  7aa5908a77a7ec24   0.25\n",
       "16  d19ef3979396d47e   0.00\n",
       "17  fd83613b7843f5e1   0.00\n",
       "18  2a619016908bfa45   0.50\n",
       "19  733979d75f59770d   0.00\n",
       "20  6546846df17f9800   0.75\n",
       "21  3ff0e7a35015be69   0.75\n",
       "22  12ca31f018a2e2b9   0.25\n",
       "23  03ba802ed4029e4d   0.00\n",
       "24  c404f8b378cbb008   0.75\n",
       "25  78243984c02a72e4   0.25\n",
       "26  de51114bc0faec3e   0.75\n",
       "27  7e3aff857f056bf9   0.00\n",
       "28  26c3c6dc6174b589   0.25\n",
       "29  b892011ab2e2cabc   1.00\n",
       "30  8247ff562ca185cc   0.25\n",
       "31  c057aecbba832387   0.00\n",
       "32  9f2279ce667b21dc   1.00\n",
       "33  b9ea2b06a878df6f   0.75\n",
       "34  79795133c30ef097   0.25\n",
       "35  25522ee5411e63e9   0.00>"
      ]
     },
     "execution_count": 8,
     "metadata": {},
     "output_type": "execute_result"
    }
   ],
   "source": [
    "df_submit_manual = pd.DataFrame(data, columns = ['id', 'score'])\n",
    "df_submit_manual.head\n",
    "#print(\"hi\")"
   ]
  },
  {
   "cell_type": "code",
   "execution_count": 9,
   "id": "b04576eb",
   "metadata": {
    "execution": {
     "iopub.execute_input": "2022-05-19T12:40:59.921376Z",
     "iopub.status.busy": "2022-05-19T12:40:59.920895Z",
     "iopub.status.idle": "2022-05-19T12:40:59.927384Z",
     "shell.execute_reply": "2022-05-19T12:40:59.926674Z"
    },
    "papermill": {
     "duration": 0.026325,
     "end_time": "2022-05-19T12:40:59.929644",
     "exception": false,
     "start_time": "2022-05-19T12:40:59.903319",
     "status": "completed"
    },
    "tags": []
   },
   "outputs": [],
   "source": [
    "df_submit_manual.to_csv('submission.csv',index=False)\n",
    "#df_submit.to_csv('/kaggle/working/submission.csv',index=False)"
   ]
  },
  {
   "cell_type": "code",
   "execution_count": 10,
   "id": "0430bc63",
   "metadata": {
    "execution": {
     "iopub.execute_input": "2022-05-19T12:40:59.962201Z",
     "iopub.status.busy": "2022-05-19T12:40:59.961693Z",
     "iopub.status.idle": "2022-05-19T12:40:59.964868Z",
     "shell.execute_reply": "2022-05-19T12:40:59.964250Z"
    },
    "papermill": {
     "duration": 0.021654,
     "end_time": "2022-05-19T12:40:59.966795",
     "exception": false,
     "start_time": "2022-05-19T12:40:59.945141",
     "status": "completed"
    },
    "tags": []
   },
   "outputs": [],
   "source": [
    "#df_new = pd.read_csv('/kaggle/working/submission.csv')"
   ]
  },
  {
   "cell_type": "code",
   "execution_count": 11,
   "id": "9390f3ac",
   "metadata": {
    "execution": {
     "iopub.execute_input": "2022-05-19T12:41:00.000804Z",
     "iopub.status.busy": "2022-05-19T12:41:00.000309Z",
     "iopub.status.idle": "2022-05-19T12:41:00.003520Z",
     "shell.execute_reply": "2022-05-19T12:41:00.002824Z"
    },
    "papermill": {
     "duration": 0.02164,
     "end_time": "2022-05-19T12:41:00.005410",
     "exception": false,
     "start_time": "2022-05-19T12:40:59.983770",
     "status": "completed"
    },
    "tags": []
   },
   "outputs": [],
   "source": [
    "#df_new.head\n"
   ]
  },
  {
   "cell_type": "code",
   "execution_count": null,
   "id": "d482d6db",
   "metadata": {
    "papermill": {
     "duration": 0.01497,
     "end_time": "2022-05-19T12:41:00.035889",
     "exception": false,
     "start_time": "2022-05-19T12:41:00.020919",
     "status": "completed"
    },
    "tags": []
   },
   "outputs": [],
   "source": []
  }
 ],
 "metadata": {
  "kernelspec": {
   "display_name": "Python 3",
   "language": "python",
   "name": "python3"
  },
  "language_info": {
   "codemirror_mode": {
    "name": "ipython",
    "version": 3
   },
   "file_extension": ".py",
   "mimetype": "text/x-python",
   "name": "python",
   "nbconvert_exporter": "python",
   "pygments_lexer": "ipython3",
   "version": "3.7.12"
  },
  "papermill": {
   "default_parameters": {},
   "duration": 12.633465,
   "end_time": "2022-05-19T12:41:00.774363",
   "environment_variables": {},
   "exception": null,
   "input_path": "__notebook__.ipynb",
   "output_path": "__notebook__.ipynb",
   "parameters": {},
   "start_time": "2022-05-19T12:40:48.140898",
   "version": "2.3.4"
  }
 },
 "nbformat": 4,
 "nbformat_minor": 5
}
