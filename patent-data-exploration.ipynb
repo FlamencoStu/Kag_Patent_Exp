{
 "cells": [
  {
   "cell_type": "code",
   "execution_count": 1,
   "id": "c79ee7ed",
   "metadata": {
    "_cell_guid": "b1076dfc-b9ad-4769-8c92-a6c4dae69d19",
    "_uuid": "8f2839f25d086af736a60e9eeb907d3b93b6e0e5",
    "execution": {
     "iopub.execute_input": "2022-05-19T12:59:29.015133Z",
     "iopub.status.busy": "2022-05-19T12:59:29.014758Z",
     "iopub.status.idle": "2022-05-19T12:59:29.026221Z",
     "shell.execute_reply": "2022-05-19T12:59:29.025552Z"
    },
    "papermill": {
     "duration": 0.028918,
     "end_time": "2022-05-19T12:59:29.028403",
     "exception": false,
     "start_time": "2022-05-19T12:59:28.999485",
     "status": "completed"
    },
    "tags": []
   },
   "outputs": [
    {
     "name": "stdout",
     "output_type": "stream",
     "text": [
      "/kaggle/input/us-patent-phrase-to-phrase-matching/sample_submission.csv\n",
      "/kaggle/input/us-patent-phrase-to-phrase-matching/train.csv\n",
      "/kaggle/input/us-patent-phrase-to-phrase-matching/test.csv\n"
     ]
    }
   ],
   "source": [
    "# This Python 3 environment comes with many helpful analytics libraries installed\n",
    "# It is defined by the kaggle/python Docker image: https://github.com/kaggle/docker-python\n",
    "# For example, here's several helpful packages to load\n",
    "\n",
    "import numpy as np # linear algebra\n",
    "import pandas as pd # data processing, CSV file I/O (e.g. pd.read_csv)\n",
    "\n",
    "# Input data files are available in the read-only \"../input/\" directory\n",
    "# For example, running this (by clicking run or pressing Shift+Enter) will list all files under the input directory\n",
    "\n",
    "import os\n",
    "for dirname, _, filenames in os.walk('/kaggle/input'):\n",
    "    for filename in filenames:\n",
    "        print(os.path.join(dirname, filename))\n",
    "\n",
    "# You can write up to 20GB to the current directory (/kaggle/working/) that gets preserved as output when you create a version using \"Save & Run All\" \n",
    "# You can also write temporary files to /kaggle/temp/, but they won't be saved outside of the current session"
   ]
  },
  {
   "cell_type": "code",
   "execution_count": 2,
   "id": "c5be0690",
   "metadata": {
    "execution": {
     "iopub.execute_input": "2022-05-19T12:59:29.058617Z",
     "iopub.status.busy": "2022-05-19T12:59:29.058121Z",
     "iopub.status.idle": "2022-05-19T12:59:29.074338Z",
     "shell.execute_reply": "2022-05-19T12:59:29.073589Z"
    },
    "papermill": {
     "duration": 0.032812,
     "end_time": "2022-05-19T12:59:29.076366",
     "exception": false,
     "start_time": "2022-05-19T12:59:29.043554",
     "status": "completed"
    },
    "tags": []
   },
   "outputs": [],
   "source": [
    "from fuzzywuzzy import fuzz\n",
    "from fuzzywuzzy import process"
   ]
  },
  {
   "cell_type": "code",
   "execution_count": 3,
   "id": "a71589a1",
   "metadata": {
    "execution": {
     "iopub.execute_input": "2022-05-19T12:59:29.103222Z",
     "iopub.status.busy": "2022-05-19T12:59:29.102719Z",
     "iopub.status.idle": "2022-05-19T12:59:29.197231Z",
     "shell.execute_reply": "2022-05-19T12:59:29.196287Z"
    },
    "papermill": {
     "duration": 0.110487,
     "end_time": "2022-05-19T12:59:29.199433",
     "exception": false,
     "start_time": "2022-05-19T12:59:29.088946",
     "status": "completed"
    },
    "tags": []
   },
   "outputs": [],
   "source": [
    "df_train = pd.read_csv(\"../input/us-patent-phrase-to-phrase-matching/train.csv\")\n",
    "df_test = pd.read_csv(\"../input/us-patent-phrase-to-phrase-matching/test.csv\")\n",
    "df_submit = pd.read_csv(\"../input/us-patent-phrase-to-phrase-matching/sample_submission.csv\")"
   ]
  },
  {
   "cell_type": "code",
   "execution_count": 4,
   "id": "bb1c8f9d",
   "metadata": {
    "execution": {
     "iopub.execute_input": "2022-05-19T12:59:29.227698Z",
     "iopub.status.busy": "2022-05-19T12:59:29.227414Z",
     "iopub.status.idle": "2022-05-19T12:59:29.243077Z",
     "shell.execute_reply": "2022-05-19T12:59:29.242428Z"
    },
    "papermill": {
     "duration": 0.031572,
     "end_time": "2022-05-19T12:59:29.244728",
     "exception": false,
     "start_time": "2022-05-19T12:59:29.213156",
     "status": "completed"
    },
    "tags": []
   },
   "outputs": [
    {
     "data": {
      "text/plain": [
       "<bound method NDFrame.head of                      id        anchor                  target context  score\n",
       "0      37d61fd2272659b1     abatement  abatement of pollution     A47   0.50\n",
       "1      7b9652b17b68b7a4     abatement          act of abating     A47   0.75\n",
       "2      36d72442aefd8232     abatement         active catalyst     A47   0.25\n",
       "3      5296b0c19e1ce60e     abatement     eliminating process     A47   0.50\n",
       "4      54c1e3b9184cb5b6     abatement           forest region     A47   0.00\n",
       "...                 ...           ...                     ...     ...    ...\n",
       "36468  8e1386cbefd7f245  wood article          wooden article     B44   1.00\n",
       "36469  42d9e032d1cd3242  wood article              wooden box     B44   0.50\n",
       "36470  208654ccb9e14fa3  wood article           wooden handle     B44   0.50\n",
       "36471  756ec035e694722b  wood article         wooden material     B44   0.75\n",
       "36472  8d135da0b55b8c88  wood article        wooden substrate     B44   0.50\n",
       "\n",
       "[36473 rows x 5 columns]>"
      ]
     },
     "execution_count": 4,
     "metadata": {},
     "output_type": "execute_result"
    }
   ],
   "source": [
    "df_train.head"
   ]
  },
  {
   "cell_type": "code",
   "execution_count": 5,
   "id": "4fd383a4",
   "metadata": {
    "execution": {
     "iopub.execute_input": "2022-05-19T12:59:29.274843Z",
     "iopub.status.busy": "2022-05-19T12:59:29.274412Z",
     "iopub.status.idle": "2022-05-19T12:59:29.284084Z",
     "shell.execute_reply": "2022-05-19T12:59:29.283173Z"
    },
    "papermill": {
     "duration": 0.028539,
     "end_time": "2022-05-19T12:59:29.286416",
     "exception": false,
     "start_time": "2022-05-19T12:59:29.257877",
     "status": "completed"
    },
    "tags": []
   },
   "outputs": [
    {
     "data": {
      "text/plain": [
       "<bound method NDFrame.head of                   id                       anchor  \\\n",
       "0   4112d61851461f60                     opc drum   \n",
       "1   09e418c93a776564              adjust gas flow   \n",
       "2   36baf228038e314b               lower trunnion   \n",
       "3   1f37ead645e7f0c8                cap component   \n",
       "4   71a5b6ad068d531f           neural stimulation   \n",
       "5   474c874d0c07bd21                     dry corn   \n",
       "6   442c114ed5c4e3c9          tunneling capacitor   \n",
       "7   b8ae62ea5e1d8bdb      angular contact bearing   \n",
       "8   faaddaf8fcba8a3f  produce liquid hydrocarbons   \n",
       "9   ae0262c02566d2ce             diesel fuel tank   \n",
       "10  a8808e31641e856d            chemical activity   \n",
       "11  16ae4b99d3601e60         transmit to platform   \n",
       "12  25c555ca3d5a2092                  oil tankers   \n",
       "13  5203a36c501f1b7c            generate in layer   \n",
       "14  b9fdc772bb8fd61c                 slip segment   \n",
       "15  7aa5908a77a7ec24                   el display   \n",
       "16  d19ef3979396d47e              overflow device   \n",
       "17  fd83613b7843f5e1     beam traveling direction   \n",
       "18  2a619016908bfa45                   el display   \n",
       "19  733979d75f59770d               equipment unit   \n",
       "20  6546846df17f9800                   halocarbyl   \n",
       "21  3ff0e7a35015be69         perfluoroalkyl group   \n",
       "22  12ca31f018a2e2b9          speed control means   \n",
       "23  03ba802ed4029e4d                   arm design   \n",
       "24  c404f8b378cbb008               hybrid bearing   \n",
       "25  78243984c02a72e4                     end pins   \n",
       "26  de51114bc0faec3e             organic starting   \n",
       "27  7e3aff857f056bf9                make of slabs   \n",
       "28  26c3c6dc6174b589                   seal teeth   \n",
       "29  b892011ab2e2cabc            carry by platform   \n",
       "30  8247ff562ca185cc                        polls   \n",
       "31  c057aecbba832387              upper clamp arm   \n",
       "32  9f2279ce667b21dc              clocked storage   \n",
       "33  b9ea2b06a878df6f              coupling factor   \n",
       "34  79795133c30ef097       different conductivity   \n",
       "35  25522ee5411e63e9               hybrid bearing   \n",
       "\n",
       "                           target context  \n",
       "0   inorganic photoconductor drum     G02  \n",
       "1               altering gas flow     F23  \n",
       "2                  lower locating     B60  \n",
       "3                   upper portion     D06  \n",
       "4       artificial neural network     H04  \n",
       "5                 dry corn starch     C12  \n",
       "6               capacitor housing     G11  \n",
       "7       contact therapy radiation     B23  \n",
       "8        produce a treated stream     C10  \n",
       "9               diesel fuel tanks     F02  \n",
       "10     dielectric characteristics     B01  \n",
       "11               direct receiving     H04  \n",
       "12                   oil carriers     B63  \n",
       "13              generate by layer     G02  \n",
       "14                   slip portion     B22  \n",
       "15                   illumination     G02  \n",
       "16                     oil filler     E04  \n",
       "17                  concrete beam     H05  \n",
       "18             electroluminescent     C23  \n",
       "19                power detection     H02  \n",
       "20      halogen addition reaction     C07  \n",
       "21                        hydroxy     A63  \n",
       "22                   control loop     G05  \n",
       "23                    steel plate     F16  \n",
       "24                 bearing system     F04  \n",
       "25                       end days     A44  \n",
       "26                organic farming     B61  \n",
       "27                    making cake     E04  \n",
       "28                teeth whitening     F01  \n",
       "29              carry on platform     B60  \n",
       "30                 pooling device     B21  \n",
       "31                     end visual     A61  \n",
       "32         clocked storage device     G01  \n",
       "33                turns impedance     G01  \n",
       "34               carrier polarity     H03  \n",
       "35            corrosion resistant     F16  >"
      ]
     },
     "execution_count": 5,
     "metadata": {},
     "output_type": "execute_result"
    }
   ],
   "source": [
    "df_test.head"
   ]
  },
  {
   "cell_type": "code",
   "execution_count": 6,
   "id": "f33f1468",
   "metadata": {
    "execution": {
     "iopub.execute_input": "2022-05-19T12:59:29.318476Z",
     "iopub.status.busy": "2022-05-19T12:59:29.317805Z",
     "iopub.status.idle": "2022-05-19T12:59:29.333575Z",
     "shell.execute_reply": "2022-05-19T12:59:29.332372Z"
    },
    "papermill": {
     "duration": 0.034443,
     "end_time": "2022-05-19T12:59:29.336046",
     "exception": false,
     "start_time": "2022-05-19T12:59:29.301603",
     "status": "completed"
    },
    "tags": []
   },
   "outputs": [],
   "source": [
    "df_submit.head\n",
    "#print(df_submit.dtypes)\n",
    "#print('Hello')\n",
    "df_submit['score']=df_submit['score'].astype('float')\n",
    "#df_submit = df_submit.astype({'score':'float64'}).dtypes\n",
    "#print(df_submit.dtypes)\n",
    "\n",
    "#df.astype({'col1': 'int32'}).dtypes"
   ]
  },
  {
   "cell_type": "code",
   "execution_count": null,
   "id": "47394994",
   "metadata": {
    "papermill": {
     "duration": 0.016707,
     "end_time": "2022-05-19T12:59:29.368114",
     "exception": false,
     "start_time": "2022-05-19T12:59:29.351407",
     "status": "completed"
    },
    "tags": []
   },
   "outputs": [],
   "source": [
    "\n",
    "\n",
    "\n"
   ]
  },
  {
   "cell_type": "code",
   "execution_count": 7,
   "id": "acbc4f74",
   "metadata": {
    "execution": {
     "iopub.execute_input": "2022-05-19T12:59:29.399170Z",
     "iopub.status.busy": "2022-05-19T12:59:29.398643Z",
     "iopub.status.idle": "2022-05-19T12:59:29.403273Z",
     "shell.execute_reply": "2022-05-19T12:59:29.402567Z"
    },
    "papermill": {
     "duration": 0.021298,
     "end_time": "2022-05-19T12:59:29.404994",
     "exception": false,
     "start_time": "2022-05-19T12:59:29.383696",
     "status": "completed"
    },
    "tags": []
   },
   "outputs": [],
   "source": [
    "#data = [['4112d61851461f60',1],['09e418c93a776564',1],['36baf228038e314b',0.25],['1f37ead645e7f0c8',0],['71a5b6ad068d531f',0.5],['474c874d0c07bd21',1],['442c114ed5c4e3c9',0.75],['b8ae62ea5e1d8bdb',0],['faaddaf8fcba8a3f',0.25],['ae0262c02566d2ce',1],['a8808e31641e856d',0.75],['16ae4b99d3601e60',0.25],['25c555ca3d5a2092',1],['5203a36c501f1b7c',1],['b9fdc772bb8fd61c',1],['7aa5908a77a7ec24',0.25],['d19ef3979396d47e',0],['fd83613b7843f5e1',0],['2a619016908bfa45',0.5],['733979d75f59770d',0],['6546846df17f9800',0.75],['3ff0e7a35015be69',0.75],['12ca31f018a2e2b9',0.25],['03ba802ed4029e4d',0],['c404f8b378cbb008',0.75],['78243984c02a72e4',0.25],['de51114bc0faec3e',0.75],['7e3aff857f056bf9',0],['26c3c6dc6174b589',0.25],['b892011ab2e2cabc',1],['8247ff562ca185cc',0.25],['c057aecbba832387',0],['9f2279ce667b21dc',1],['b9ea2b06a878df6f',0.75],['79795133c30ef097',0.25],['25522ee5411e63e9',0]]\n"
   ]
  },
  {
   "cell_type": "code",
   "execution_count": 8,
   "id": "91756be7",
   "metadata": {
    "execution": {
     "iopub.execute_input": "2022-05-19T12:59:29.433440Z",
     "iopub.status.busy": "2022-05-19T12:59:29.432915Z",
     "iopub.status.idle": "2022-05-19T12:59:29.436517Z",
     "shell.execute_reply": "2022-05-19T12:59:29.435948Z"
    },
    "papermill": {
     "duration": 0.019884,
     "end_time": "2022-05-19T12:59:29.438252",
     "exception": false,
     "start_time": "2022-05-19T12:59:29.418368",
     "status": "completed"
    },
    "tags": []
   },
   "outputs": [],
   "source": [
    "def similar(a,b):\n",
    "    return SequenceMatcher(None, a, b).ratio\n"
   ]
  },
  {
   "cell_type": "code",
   "execution_count": 9,
   "id": "faa3e666",
   "metadata": {
    "execution": {
     "iopub.execute_input": "2022-05-19T12:59:29.466311Z",
     "iopub.status.busy": "2022-05-19T12:59:29.465983Z",
     "iopub.status.idle": "2022-05-19T12:59:29.481175Z",
     "shell.execute_reply": "2022-05-19T12:59:29.480575Z"
    },
    "papermill": {
     "duration": 0.031445,
     "end_time": "2022-05-19T12:59:29.482931",
     "exception": false,
     "start_time": "2022-05-19T12:59:29.451486",
     "status": "completed"
    },
    "tags": []
   },
   "outputs": [
    {
     "data": {
      "text/plain": [
       "<bound method NDFrame.head of                   id  score\n",
       "0   4112d61851461f60   0.75\n",
       "1   09e418c93a776564   0.67\n",
       "2   36baf228038e314b   0.64\n",
       "3   1f37ead645e7f0c8   0.38\n",
       "4   71a5b6ad068d531f   0.50\n",
       "5   474c874d0c07bd21   1.00\n",
       "6   442c114ed5c4e3c9   0.53\n",
       "7   b8ae62ea5e1d8bdb   0.52\n",
       "8   faaddaf8fcba8a3f   0.50\n",
       "9   ae0262c02566d2ce   1.00\n",
       "10  a8808e31641e856d   0.47\n",
       "11  16ae4b99d3601e60   0.25\n",
       "12  25c555ca3d5a2092   0.64\n",
       "13  5203a36c501f1b7c   0.88\n",
       "14  b9fdc772bb8fd61c   0.50\n",
       "15  7aa5908a77a7ec24   0.30\n",
       "16  d19ef3979396d47e   0.40\n",
       "17  fd83613b7843f5e1   0.31\n",
       "18  2a619016908bfa45   0.30\n",
       "19  733979d75f59770d   0.29\n",
       "20  6546846df17f9800   0.50\n",
       "21  3ff0e7a35015be69   0.43\n",
       "22  12ca31f018a2e2b9   0.67\n",
       "23  03ba802ed4029e4d   0.20\n",
       "24  c404f8b378cbb008   0.50\n",
       "25  78243984c02a72e4   0.62\n",
       "26  de51114bc0faec3e   0.80\n",
       "27  7e3aff857f056bf9   0.45\n",
       "28  26c3c6dc6174b589   0.40\n",
       "29  b892011ab2e2cabc   0.88\n",
       "30  8247ff562ca185cc   0.60\n",
       "31  c057aecbba832387   0.30\n",
       "32  9f2279ce667b21dc   1.00\n",
       "33  b9ea2b06a878df6f   0.34\n",
       "34  79795133c30ef097   0.38\n",
       "35  25522ee5411e63e9   0.36>"
      ]
     },
     "execution_count": 9,
     "metadata": {},
     "output_type": "execute_result"
    }
   ],
   "source": [
    "df_test['score']= df_test.apply(lambda x: fuzz.partial_ratio(x['anchor'],x['target']),axis=1)\n",
    "df_test['score'] = df_test['score'].astype('float')\n",
    "df_test['score'] = df_test['score']/100\n",
    "df_submit['score'] = df_test['score']\n",
    "df_submit.head\n"
   ]
  },
  {
   "cell_type": "code",
   "execution_count": null,
   "id": "b255c259",
   "metadata": {
    "papermill": {
     "duration": 0.013432,
     "end_time": "2022-05-19T12:59:29.509958",
     "exception": false,
     "start_time": "2022-05-19T12:59:29.496526",
     "status": "completed"
    },
    "tags": []
   },
   "outputs": [],
   "source": []
  },
  {
   "cell_type": "code",
   "execution_count": null,
   "id": "6bb93f7e",
   "metadata": {
    "papermill": {
     "duration": 0.013425,
     "end_time": "2022-05-19T12:59:29.536919",
     "exception": false,
     "start_time": "2022-05-19T12:59:29.523494",
     "status": "completed"
    },
    "tags": []
   },
   "outputs": [],
   "source": []
  },
  {
   "cell_type": "code",
   "execution_count": 10,
   "id": "50d8f889",
   "metadata": {
    "execution": {
     "iopub.execute_input": "2022-05-19T12:59:29.565989Z",
     "iopub.status.busy": "2022-05-19T12:59:29.565705Z",
     "iopub.status.idle": "2022-05-19T12:59:29.571896Z",
     "shell.execute_reply": "2022-05-19T12:59:29.571271Z"
    },
    "papermill": {
     "duration": 0.02338,
     "end_time": "2022-05-19T12:59:29.573993",
     "exception": false,
     "start_time": "2022-05-19T12:59:29.550613",
     "status": "completed"
    },
    "tags": []
   },
   "outputs": [],
   "source": [
    "df_submit.to_csv('submission.csv',index=False)\n",
    "#df_submit.to_csv('/kaggle/working/submission.csv',index=False)"
   ]
  },
  {
   "cell_type": "code",
   "execution_count": 11,
   "id": "dd9408fe",
   "metadata": {
    "execution": {
     "iopub.execute_input": "2022-05-19T12:59:29.602841Z",
     "iopub.status.busy": "2022-05-19T12:59:29.602559Z",
     "iopub.status.idle": "2022-05-19T12:59:29.606144Z",
     "shell.execute_reply": "2022-05-19T12:59:29.605100Z"
    },
    "papermill": {
     "duration": 0.020258,
     "end_time": "2022-05-19T12:59:29.607976",
     "exception": false,
     "start_time": "2022-05-19T12:59:29.587718",
     "status": "completed"
    },
    "tags": []
   },
   "outputs": [],
   "source": [
    "#df_new = pd.read_csv('/kaggle/working/submission.csv')"
   ]
  },
  {
   "cell_type": "code",
   "execution_count": 12,
   "id": "a50f6bf6",
   "metadata": {
    "execution": {
     "iopub.execute_input": "2022-05-19T12:59:29.638401Z",
     "iopub.status.busy": "2022-05-19T12:59:29.638113Z",
     "iopub.status.idle": "2022-05-19T12:59:29.641365Z",
     "shell.execute_reply": "2022-05-19T12:59:29.640533Z"
    },
    "papermill": {
     "duration": 0.020021,
     "end_time": "2022-05-19T12:59:29.643268",
     "exception": false,
     "start_time": "2022-05-19T12:59:29.623247",
     "status": "completed"
    },
    "tags": []
   },
   "outputs": [],
   "source": [
    "#df_new.head\n"
   ]
  },
  {
   "cell_type": "code",
   "execution_count": null,
   "id": "e7a073bb",
   "metadata": {
    "papermill": {
     "duration": 0.013145,
     "end_time": "2022-05-19T12:59:29.670174",
     "exception": false,
     "start_time": "2022-05-19T12:59:29.657029",
     "status": "completed"
    },
    "tags": []
   },
   "outputs": [],
   "source": []
  }
 ],
 "metadata": {
  "kernelspec": {
   "display_name": "Python 3",
   "language": "python",
   "name": "python3"
  },
  "language_info": {
   "codemirror_mode": {
    "name": "ipython",
    "version": 3
   },
   "file_extension": ".py",
   "mimetype": "text/x-python",
   "name": "python",
   "nbconvert_exporter": "python",
   "pygments_lexer": "ipython3",
   "version": "3.7.12"
  },
  "papermill": {
   "default_parameters": {},
   "duration": 10.039706,
   "end_time": "2022-05-19T12:59:30.303905",
   "environment_variables": {},
   "exception": null,
   "input_path": "__notebook__.ipynb",
   "output_path": "__notebook__.ipynb",
   "parameters": {},
   "start_time": "2022-05-19T12:59:20.264199",
   "version": "2.3.4"
  }
 },
 "nbformat": 4,
 "nbformat_minor": 5
}
