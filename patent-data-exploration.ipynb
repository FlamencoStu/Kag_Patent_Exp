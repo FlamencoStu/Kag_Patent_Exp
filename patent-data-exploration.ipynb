{
 "cells": [
  {
   "cell_type": "code",
   "execution_count": 1,
   "id": "3ade7d48",
   "metadata": {
    "_cell_guid": "b1076dfc-b9ad-4769-8c92-a6c4dae69d19",
    "_uuid": "8f2839f25d086af736a60e9eeb907d3b93b6e0e5",
    "execution": {
     "iopub.execute_input": "2022-05-20T11:42:08.064531Z",
     "iopub.status.busy": "2022-05-20T11:42:08.064216Z",
     "iopub.status.idle": "2022-05-20T11:42:08.076597Z",
     "shell.execute_reply": "2022-05-20T11:42:08.076042Z"
    },
    "papermill": {
     "duration": 0.033826,
     "end_time": "2022-05-20T11:42:08.078801",
     "exception": false,
     "start_time": "2022-05-20T11:42:08.044975",
     "status": "completed"
    },
    "tags": []
   },
   "outputs": [
    {
     "name": "stdout",
     "output_type": "stream",
     "text": [
      "/kaggle/input/us-patent-phrase-to-phrase-matching/sample_submission.csv\n",
      "/kaggle/input/us-patent-phrase-to-phrase-matching/train.csv\n",
      "/kaggle/input/us-patent-phrase-to-phrase-matching/test.csv\n"
     ]
    }
   ],
   "source": [
    "# This Python 3 environment comes with many helpful analytics libraries installed\n",
    "# It is defined by the kaggle/python Docker image: https://github.com/kaggle/docker-python\n",
    "# For example, here's several helpful packages to load\n",
    "\n",
    "import numpy as np # linear algebra\n",
    "import pandas as pd # data processing, CSV file I/O (e.g. pd.read_csv)\n",
    "\n",
    "# Input data files are available in the read-only \"../input/\" directory\n",
    "# For example, running this (by clicking run or pressing Shift+Enter) will list all files under the input directory\n",
    "\n",
    "import os\n",
    "for dirname, _, filenames in os.walk('/kaggle/input'):\n",
    "    for filename in filenames:\n",
    "        print(os.path.join(dirname, filename))\n",
    "\n",
    "# You can write up to 20GB to the current directory (/kaggle/working/) that gets preserved as output when you create a version using \"Save & Run All\" \n",
    "# You can also write temporary files to /kaggle/temp/, but they won't be saved outside of the current session"
   ]
  },
  {
   "cell_type": "code",
   "execution_count": 2,
   "id": "b39490e4",
   "metadata": {
    "execution": {
     "iopub.execute_input": "2022-05-20T11:42:08.116117Z",
     "iopub.status.busy": "2022-05-20T11:42:08.115602Z",
     "iopub.status.idle": "2022-05-20T11:42:09.925555Z",
     "shell.execute_reply": "2022-05-20T11:42:09.924920Z"
    },
    "papermill": {
     "duration": 1.829254,
     "end_time": "2022-05-20T11:42:09.927873",
     "exception": false,
     "start_time": "2022-05-20T11:42:08.098619",
     "status": "completed"
    },
    "tags": []
   },
   "outputs": [],
   "source": [
    "from fuzzywuzzy import fuzz\n",
    "from fuzzywuzzy import process\n",
    "\n",
    "from nltk.corpus import stopwords\n",
    "from nltk.tokenize import word_tokenize\n",
    "\n",
    "stop = stopwords.words('english')\n"
   ]
  },
  {
   "cell_type": "code",
   "execution_count": 3,
   "id": "dd887729",
   "metadata": {
    "execution": {
     "iopub.execute_input": "2022-05-20T11:42:09.965139Z",
     "iopub.status.busy": "2022-05-20T11:42:09.964609Z",
     "iopub.status.idle": "2022-05-20T11:42:10.084792Z",
     "shell.execute_reply": "2022-05-20T11:42:10.084076Z"
    },
    "papermill": {
     "duration": 0.14191,
     "end_time": "2022-05-20T11:42:10.086953",
     "exception": false,
     "start_time": "2022-05-20T11:42:09.945043",
     "status": "completed"
    },
    "tags": []
   },
   "outputs": [],
   "source": [
    "df_train = pd.read_csv(\"../input/us-patent-phrase-to-phrase-matching/train.csv\")\n",
    "df_test = pd.read_csv(\"../input/us-patent-phrase-to-phrase-matching/test.csv\")\n",
    "df_submit = pd.read_csv(\"../input/us-patent-phrase-to-phrase-matching/sample_submission.csv\")\n",
    "# do very minor cleaning\n",
    "df_submit['score']=df_submit['score'].astype('float')"
   ]
  },
  {
   "cell_type": "code",
   "execution_count": 4,
   "id": "11cafdeb",
   "metadata": {
    "execution": {
     "iopub.execute_input": "2022-05-20T11:42:10.121147Z",
     "iopub.status.busy": "2022-05-20T11:42:10.120672Z",
     "iopub.status.idle": "2022-05-20T11:42:10.142463Z",
     "shell.execute_reply": "2022-05-20T11:42:10.141555Z"
    },
    "papermill": {
     "duration": 0.041518,
     "end_time": "2022-05-20T11:42:10.144743",
     "exception": false,
     "start_time": "2022-05-20T11:42:10.103225",
     "status": "completed"
    },
    "tags": []
   },
   "outputs": [
    {
     "data": {
      "text/html": [
       "<div>\n",
       "<style scoped>\n",
       "    .dataframe tbody tr th:only-of-type {\n",
       "        vertical-align: middle;\n",
       "    }\n",
       "\n",
       "    .dataframe tbody tr th {\n",
       "        vertical-align: top;\n",
       "    }\n",
       "\n",
       "    .dataframe thead th {\n",
       "        text-align: right;\n",
       "    }\n",
       "</style>\n",
       "<table border=\"1\" class=\"dataframe\">\n",
       "  <thead>\n",
       "    <tr style=\"text-align: right;\">\n",
       "      <th></th>\n",
       "      <th>id</th>\n",
       "      <th>anchor</th>\n",
       "      <th>target</th>\n",
       "      <th>context</th>\n",
       "      <th>score</th>\n",
       "    </tr>\n",
       "  </thead>\n",
       "  <tbody>\n",
       "    <tr>\n",
       "      <th>0</th>\n",
       "      <td>37d61fd2272659b1</td>\n",
       "      <td>abatement</td>\n",
       "      <td>abatement of pollution</td>\n",
       "      <td>A47</td>\n",
       "      <td>0.50</td>\n",
       "    </tr>\n",
       "    <tr>\n",
       "      <th>1</th>\n",
       "      <td>7b9652b17b68b7a4</td>\n",
       "      <td>abatement</td>\n",
       "      <td>act of abating</td>\n",
       "      <td>A47</td>\n",
       "      <td>0.75</td>\n",
       "    </tr>\n",
       "    <tr>\n",
       "      <th>2</th>\n",
       "      <td>36d72442aefd8232</td>\n",
       "      <td>abatement</td>\n",
       "      <td>active catalyst</td>\n",
       "      <td>A47</td>\n",
       "      <td>0.25</td>\n",
       "    </tr>\n",
       "    <tr>\n",
       "      <th>3</th>\n",
       "      <td>5296b0c19e1ce60e</td>\n",
       "      <td>abatement</td>\n",
       "      <td>eliminating process</td>\n",
       "      <td>A47</td>\n",
       "      <td>0.50</td>\n",
       "    </tr>\n",
       "    <tr>\n",
       "      <th>4</th>\n",
       "      <td>54c1e3b9184cb5b6</td>\n",
       "      <td>abatement</td>\n",
       "      <td>forest region</td>\n",
       "      <td>A47</td>\n",
       "      <td>0.00</td>\n",
       "    </tr>\n",
       "    <tr>\n",
       "      <th>5</th>\n",
       "      <td>067203128142739c</td>\n",
       "      <td>abatement</td>\n",
       "      <td>greenhouse gases</td>\n",
       "      <td>A47</td>\n",
       "      <td>0.25</td>\n",
       "    </tr>\n",
       "    <tr>\n",
       "      <th>6</th>\n",
       "      <td>061d17f04be2d1cf</td>\n",
       "      <td>abatement</td>\n",
       "      <td>increased rate</td>\n",
       "      <td>A47</td>\n",
       "      <td>0.25</td>\n",
       "    </tr>\n",
       "    <tr>\n",
       "      <th>7</th>\n",
       "      <td>e1f44e48399a2027</td>\n",
       "      <td>abatement</td>\n",
       "      <td>measurement level</td>\n",
       "      <td>A47</td>\n",
       "      <td>0.25</td>\n",
       "    </tr>\n",
       "    <tr>\n",
       "      <th>8</th>\n",
       "      <td>0a425937a3e86d10</td>\n",
       "      <td>abatement</td>\n",
       "      <td>minimising sounds</td>\n",
       "      <td>A47</td>\n",
       "      <td>0.50</td>\n",
       "    </tr>\n",
       "    <tr>\n",
       "      <th>9</th>\n",
       "      <td>ef2d4c2e6bbb208d</td>\n",
       "      <td>abatement</td>\n",
       "      <td>mixing core materials</td>\n",
       "      <td>A47</td>\n",
       "      <td>0.25</td>\n",
       "    </tr>\n",
       "    <tr>\n",
       "      <th>10</th>\n",
       "      <td>4c3f2750e7540ab7</td>\n",
       "      <td>abatement</td>\n",
       "      <td>multi pollution abatement device</td>\n",
       "      <td>A47</td>\n",
       "      <td>0.50</td>\n",
       "    </tr>\n",
       "    <tr>\n",
       "      <th>11</th>\n",
       "      <td>84261a11e5d1b68b</td>\n",
       "      <td>abatement</td>\n",
       "      <td>noise reduction</td>\n",
       "      <td>A47</td>\n",
       "      <td>0.50</td>\n",
       "    </tr>\n",
       "    <tr>\n",
       "      <th>12</th>\n",
       "      <td>bfd7270f57530991</td>\n",
       "      <td>abatement</td>\n",
       "      <td>pollution abatement</td>\n",
       "      <td>A47</td>\n",
       "      <td>0.50</td>\n",
       "    </tr>\n",
       "    <tr>\n",
       "      <th>13</th>\n",
       "      <td>b3832eac81b73dfd</td>\n",
       "      <td>abatement</td>\n",
       "      <td>pollution abatement incinerator</td>\n",
       "      <td>A47</td>\n",
       "      <td>0.50</td>\n",
       "    </tr>\n",
       "    <tr>\n",
       "      <th>14</th>\n",
       "      <td>9001756895ec8ca1</td>\n",
       "      <td>abatement</td>\n",
       "      <td>pollution certificate</td>\n",
       "      <td>A47</td>\n",
       "      <td>0.00</td>\n",
       "    </tr>\n",
       "    <tr>\n",
       "      <th>15</th>\n",
       "      <td>cc96541d4987b399</td>\n",
       "      <td>abatement</td>\n",
       "      <td>rent abatement</td>\n",
       "      <td>A47</td>\n",
       "      <td>0.00</td>\n",
       "    </tr>\n",
       "    <tr>\n",
       "      <th>16</th>\n",
       "      <td>deb9204cd9783e8b</td>\n",
       "      <td>abatement</td>\n",
       "      <td>sorbent material</td>\n",
       "      <td>A47</td>\n",
       "      <td>0.25</td>\n",
       "    </tr>\n",
       "    <tr>\n",
       "      <th>17</th>\n",
       "      <td>45db77f26e5ac39f</td>\n",
       "      <td>abatement</td>\n",
       "      <td>source items pollution abatement technology</td>\n",
       "      <td>A47</td>\n",
       "      <td>0.50</td>\n",
       "    </tr>\n",
       "    <tr>\n",
       "      <th>18</th>\n",
       "      <td>1222e36d9a94c2a4</td>\n",
       "      <td>abatement</td>\n",
       "      <td>stone abutments</td>\n",
       "      <td>A47</td>\n",
       "      <td>0.00</td>\n",
       "    </tr>\n",
       "    <tr>\n",
       "      <th>19</th>\n",
       "      <td>a8c9e9f37d4d836a</td>\n",
       "      <td>abatement</td>\n",
       "      <td>tax abatement</td>\n",
       "      <td>A47</td>\n",
       "      <td>0.00</td>\n",
       "    </tr>\n",
       "  </tbody>\n",
       "</table>\n",
       "</div>"
      ],
      "text/plain": [
       "                  id     anchor                                       target  \\\n",
       "0   37d61fd2272659b1  abatement                       abatement of pollution   \n",
       "1   7b9652b17b68b7a4  abatement                               act of abating   \n",
       "2   36d72442aefd8232  abatement                              active catalyst   \n",
       "3   5296b0c19e1ce60e  abatement                          eliminating process   \n",
       "4   54c1e3b9184cb5b6  abatement                                forest region   \n",
       "5   067203128142739c  abatement                             greenhouse gases   \n",
       "6   061d17f04be2d1cf  abatement                               increased rate   \n",
       "7   e1f44e48399a2027  abatement                            measurement level   \n",
       "8   0a425937a3e86d10  abatement                            minimising sounds   \n",
       "9   ef2d4c2e6bbb208d  abatement                        mixing core materials   \n",
       "10  4c3f2750e7540ab7  abatement             multi pollution abatement device   \n",
       "11  84261a11e5d1b68b  abatement                              noise reduction   \n",
       "12  bfd7270f57530991  abatement                          pollution abatement   \n",
       "13  b3832eac81b73dfd  abatement              pollution abatement incinerator   \n",
       "14  9001756895ec8ca1  abatement                        pollution certificate   \n",
       "15  cc96541d4987b399  abatement                               rent abatement   \n",
       "16  deb9204cd9783e8b  abatement                             sorbent material   \n",
       "17  45db77f26e5ac39f  abatement  source items pollution abatement technology   \n",
       "18  1222e36d9a94c2a4  abatement                              stone abutments   \n",
       "19  a8c9e9f37d4d836a  abatement                                tax abatement   \n",
       "\n",
       "   context  score  \n",
       "0      A47   0.50  \n",
       "1      A47   0.75  \n",
       "2      A47   0.25  \n",
       "3      A47   0.50  \n",
       "4      A47   0.00  \n",
       "5      A47   0.25  \n",
       "6      A47   0.25  \n",
       "7      A47   0.25  \n",
       "8      A47   0.50  \n",
       "9      A47   0.25  \n",
       "10     A47   0.50  \n",
       "11     A47   0.50  \n",
       "12     A47   0.50  \n",
       "13     A47   0.50  \n",
       "14     A47   0.00  \n",
       "15     A47   0.00  \n",
       "16     A47   0.25  \n",
       "17     A47   0.50  \n",
       "18     A47   0.00  \n",
       "19     A47   0.00  "
      ]
     },
     "execution_count": 4,
     "metadata": {},
     "output_type": "execute_result"
    }
   ],
   "source": [
    "df_train.head(20)"
   ]
  },
  {
   "cell_type": "code",
   "execution_count": null,
   "id": "e19f6eee",
   "metadata": {
    "papermill": {
     "duration": 0.016679,
     "end_time": "2022-05-20T11:42:10.178376",
     "exception": false,
     "start_time": "2022-05-20T11:42:10.161697",
     "status": "completed"
    },
    "tags": []
   },
   "outputs": [],
   "source": []
  },
  {
   "cell_type": "markdown",
   "id": "97a9674b",
   "metadata": {
    "papermill": {
     "duration": 0.01622,
     "end_time": "2022-05-20T11:42:10.211266",
     "exception": false,
     "start_time": "2022-05-20T11:42:10.195046",
     "status": "completed"
    },
    "tags": []
   },
   "source": [
    "****PREPROCESSING STEP****"
   ]
  },
  {
   "cell_type": "code",
   "execution_count": 5,
   "id": "d0980be2",
   "metadata": {
    "execution": {
     "iopub.execute_input": "2022-05-20T11:42:10.246477Z",
     "iopub.status.busy": "2022-05-20T11:42:10.245921Z",
     "iopub.status.idle": "2022-05-20T11:42:10.251206Z",
     "shell.execute_reply": "2022-05-20T11:42:10.250412Z"
    },
    "papermill": {
     "duration": 0.02548,
     "end_time": "2022-05-20T11:42:10.253236",
     "exception": false,
     "start_time": "2022-05-20T11:42:10.227756",
     "status": "completed"
    },
    "tags": []
   },
   "outputs": [],
   "source": [
    "#This is the preprocessing data step to make the fields better\n",
    "#gets passed a dataframe and a column name to process\n",
    "def preprocess (df, col_tp):\n",
    "        df[col_tp]=df[col_tp].apply(lambda x: ' '.join([word for word in x.split() if word not in (stop)]))"
   ]
  },
  {
   "cell_type": "code",
   "execution_count": 6,
   "id": "30e89357",
   "metadata": {
    "execution": {
     "iopub.execute_input": "2022-05-20T11:42:10.290301Z",
     "iopub.status.busy": "2022-05-20T11:42:10.289407Z",
     "iopub.status.idle": "2022-05-20T11:42:10.719103Z",
     "shell.execute_reply": "2022-05-20T11:42:10.718118Z"
    },
    "papermill": {
     "duration": 0.451116,
     "end_time": "2022-05-20T11:42:10.721551",
     "exception": false,
     "start_time": "2022-05-20T11:42:10.270435",
     "status": "completed"
    },
    "tags": []
   },
   "outputs": [],
   "source": [
    "for df in [df_train, df_test]:\n",
    "    for col in ['anchor', 'target']:\n",
    "        preprocess(df,col)"
   ]
  },
  {
   "cell_type": "code",
   "execution_count": null,
   "id": "3a761271",
   "metadata": {
    "papermill": {
     "duration": 0.016964,
     "end_time": "2022-05-20T11:42:10.755925",
     "exception": false,
     "start_time": "2022-05-20T11:42:10.738961",
     "status": "completed"
    },
    "tags": []
   },
   "outputs": [],
   "source": [
    "\n"
   ]
  },
  {
   "cell_type": "code",
   "execution_count": 7,
   "id": "b1467a46",
   "metadata": {
    "execution": {
     "iopub.execute_input": "2022-05-20T11:42:10.791567Z",
     "iopub.status.busy": "2022-05-20T11:42:10.790686Z",
     "iopub.status.idle": "2022-05-20T11:42:10.808191Z",
     "shell.execute_reply": "2022-05-20T11:42:10.807517Z"
    },
    "papermill": {
     "duration": 0.037398,
     "end_time": "2022-05-20T11:42:10.810292",
     "exception": false,
     "start_time": "2022-05-20T11:42:10.772894",
     "status": "completed"
    },
    "tags": []
   },
   "outputs": [
    {
     "data": {
      "text/plain": [
       "<bound method NDFrame.head of                   id  score\n",
       "0   4112d61851461f60   0.75\n",
       "1   09e418c93a776564   0.67\n",
       "2   36baf228038e314b   0.64\n",
       "3   1f37ead645e7f0c8   0.38\n",
       "4   71a5b6ad068d531f   0.50\n",
       "5   474c874d0c07bd21   1.00\n",
       "6   442c114ed5c4e3c9   0.53\n",
       "7   b8ae62ea5e1d8bdb   0.52\n",
       "8   faaddaf8fcba8a3f   0.55\n",
       "9   ae0262c02566d2ce   1.00\n",
       "10  a8808e31641e856d   0.47\n",
       "11  16ae4b99d3601e60   0.26\n",
       "12  25c555ca3d5a2092   0.64\n",
       "13  5203a36c501f1b7c   1.00\n",
       "14  b9fdc772bb8fd61c   0.50\n",
       "15  7aa5908a77a7ec24   0.30\n",
       "16  d19ef3979396d47e   0.40\n",
       "17  fd83613b7843f5e1   0.31\n",
       "18  2a619016908bfa45   0.30\n",
       "19  733979d75f59770d   0.29\n",
       "20  6546846df17f9800   0.50\n",
       "21  3ff0e7a35015be69   0.43\n",
       "22  12ca31f018a2e2b9   0.67\n",
       "23  03ba802ed4029e4d   0.20\n",
       "24  c404f8b378cbb008   0.50\n",
       "25  78243984c02a72e4   0.62\n",
       "26  de51114bc0faec3e   0.80\n",
       "27  7e3aff857f056bf9   0.50\n",
       "28  26c3c6dc6174b589   0.40\n",
       "29  b892011ab2e2cabc   1.00\n",
       "30  8247ff562ca185cc   0.60\n",
       "31  c057aecbba832387   0.30\n",
       "32  9f2279ce667b21dc   1.00\n",
       "33  b9ea2b06a878df6f   0.34\n",
       "34  79795133c30ef097   0.38\n",
       "35  25522ee5411e63e9   0.36>"
      ]
     },
     "execution_count": 7,
     "metadata": {},
     "output_type": "execute_result"
    }
   ],
   "source": [
    "#currently use fuzz as the similarity.\n",
    "\n",
    "df_test['score']= df_test.apply(lambda x: fuzz.partial_ratio(x['anchor'],x['target']),axis=1)\n",
    "df_test['score'] = df_test['score'].astype('float')\n",
    "df_test['score'] = df_test['score']/100\n",
    "df_submit['score'] = df_test['score']\n",
    "df_submit.head\n"
   ]
  },
  {
   "cell_type": "code",
   "execution_count": null,
   "id": "8e960602",
   "metadata": {
    "papermill": {
     "duration": 0.016939,
     "end_time": "2022-05-20T11:42:10.844701",
     "exception": false,
     "start_time": "2022-05-20T11:42:10.827762",
     "status": "completed"
    },
    "tags": []
   },
   "outputs": [],
   "source": []
  },
  {
   "cell_type": "code",
   "execution_count": null,
   "id": "b625e589",
   "metadata": {
    "papermill": {
     "duration": 0.017114,
     "end_time": "2022-05-20T11:42:10.878837",
     "exception": false,
     "start_time": "2022-05-20T11:42:10.861723",
     "status": "completed"
    },
    "tags": []
   },
   "outputs": [],
   "source": []
  },
  {
   "cell_type": "code",
   "execution_count": 8,
   "id": "1f41f186",
   "metadata": {
    "execution": {
     "iopub.execute_input": "2022-05-20T11:42:10.914835Z",
     "iopub.status.busy": "2022-05-20T11:42:10.914139Z",
     "iopub.status.idle": "2022-05-20T11:42:10.921389Z",
     "shell.execute_reply": "2022-05-20T11:42:10.920718Z"
    },
    "papermill": {
     "duration": 0.027434,
     "end_time": "2022-05-20T11:42:10.923386",
     "exception": false,
     "start_time": "2022-05-20T11:42:10.895952",
     "status": "completed"
    },
    "tags": []
   },
   "outputs": [],
   "source": [
    "df_submit.to_csv('submission.csv',index=False)\n",
    "#df_submit.to_csv('/kaggle/working/submission.csv',index=False)"
   ]
  },
  {
   "cell_type": "code",
   "execution_count": null,
   "id": "6b95947e",
   "metadata": {
    "papermill": {
     "duration": 0.01738,
     "end_time": "2022-05-20T11:42:10.959622",
     "exception": false,
     "start_time": "2022-05-20T11:42:10.942242",
     "status": "completed"
    },
    "tags": []
   },
   "outputs": [],
   "source": []
  },
  {
   "cell_type": "code",
   "execution_count": null,
   "id": "b85f7f1d",
   "metadata": {
    "papermill": {
     "duration": 0.01652,
     "end_time": "2022-05-20T11:42:10.992924",
     "exception": false,
     "start_time": "2022-05-20T11:42:10.976404",
     "status": "completed"
    },
    "tags": []
   },
   "outputs": [],
   "source": [
    "\n"
   ]
  },
  {
   "cell_type": "code",
   "execution_count": null,
   "id": "a181ff1d",
   "metadata": {
    "papermill": {
     "duration": 0.017002,
     "end_time": "2022-05-20T11:42:11.027802",
     "exception": false,
     "start_time": "2022-05-20T11:42:11.010800",
     "status": "completed"
    },
    "tags": []
   },
   "outputs": [],
   "source": []
  }
 ],
 "metadata": {
  "kernelspec": {
   "display_name": "Python 3",
   "language": "python",
   "name": "python3"
  },
  "language_info": {
   "codemirror_mode": {
    "name": "ipython",
    "version": 3
   },
   "file_extension": ".py",
   "mimetype": "text/x-python",
   "name": "python",
   "nbconvert_exporter": "python",
   "pygments_lexer": "ipython3",
   "version": "3.7.12"
  },
  "papermill": {
   "default_parameters": {},
   "duration": 13.871471,
   "end_time": "2022-05-20T11:42:11.865983",
   "environment_variables": {},
   "exception": null,
   "input_path": "__notebook__.ipynb",
   "output_path": "__notebook__.ipynb",
   "parameters": {},
   "start_time": "2022-05-20T11:41:57.994512",
   "version": "2.3.4"
  }
 },
 "nbformat": 4,
 "nbformat_minor": 5
}
